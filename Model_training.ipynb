{
  "nbformat": 4,
  "nbformat_minor": 0,
  "metadata": {
    "colab": {
      "provenance": []
    },
    "kernelspec": {
      "name": "python3",
      "display_name": "Python 3"
    },
    "language_info": {
      "name": "python"
    }
  },
  "cells": [
    {
      "cell_type": "code",
      "execution_count": null,
      "metadata": {
        "id": "hVhk97nW80gf"
      },
      "outputs": [],
      "source": []
    },
    {
      "cell_type": "code",
      "source": [
        "import pandas as pd\n",
        "import numpy as np\n",
        "from sklearn.model_selection import train_test_split\n",
        "from sklearn.preprocessing import LabelEncoder, StandardScaler\n",
        "from sklearn.ensemble import RandomForestRegressor\n",
        "from sklearn.metrics import mean_absolute_error, r2_score\n",
        "import pickle\n",
        "\n",
        "# Load dataset\n",
        "df = pd.read_csv(\"dataset(3).csv\")\n",
        "\n",
        "# Encode categorical variables\n",
        "categorical_cols = ['Gender', 'EducationLevel']\n",
        "label_encoders = {}\n",
        "for col in categorical_cols:\n",
        "    le = LabelEncoder()\n",
        "    df[col] = le.fit_transform(df[col].astype(str))\n",
        "    label_encoders[col] = le\n",
        "\n",
        "# Drop unwanted or non-numeric columns\n",
        "df.drop(columns=['TimeLeftHome', 'DoctorInCharge'], errors='ignore', inplace=True)\n",
        "\n",
        "# Drop rows with missing target\n",
        "df.dropna(subset=['TimeLeftHome_Minutes'], inplace=True)\n",
        "\n",
        "# Features and target\n",
        "X = df.drop(columns=['TimeLeftHome_Minutes'])\n",
        "y = df['TimeLeftHome_Minutes']\n",
        "\n",
        "# Fill remaining missing values\n",
        "X = X.fillna(X.median(numeric_only=True))\n",
        "\n",
        "# Normalize numerical features\n",
        "scaler = StandardScaler()\n",
        "X_scaled = pd.DataFrame(scaler.fit_transform(X), columns=X.columns)\n",
        "\n",
        "# Train-test split\n",
        "X_train, X_test, y_train, y_test = train_test_split(\n",
        "    X_scaled, y, test_size=0.2, random_state=42\n",
        ")\n",
        "\n",
        "# Train Random Forest\n",
        "model = RandomForestRegressor(n_estimators=200, max_depth=12, random_state=42)\n",
        "model.fit(X_train, y_train)\n",
        "\n",
        "# Evaluate\n",
        "y_pred = model.predict(X_test)\n",
        "mae = mean_absolute_error(y_test, y_pred)\n",
        "r2 = r2_score(y_test, y_pred)\n",
        "print(f\"MAE: {mae:.2f}, R²: {r2:.4f}\")\n",
        "\n",
        "# Save model, scaler, encoders, and feature columns\n",
        "with open('model.pkl', 'wb') as f:\n",
        "    pickle.dump(model, f)\n",
        "\n",
        "with open('scaler.pkl', 'wb') as f:\n",
        "    pickle.dump(scaler, f)\n",
        "\n",
        "with open('encoder.pkl', 'wb') as f:\n",
        "    pickle.dump(label_encoders, f)\n",
        "\n",
        "feature_columns = X.columns.tolist()\n",
        "with open('features.pkl', 'wb') as f:\n",
        "    pickle.dump(feature_columns, f)\n",
        "\n",
        "print(\"✅ Model, scaler, encoders, and feature columns saved.\")\n"
      ],
      "metadata": {
        "colab": {
          "base_uri": "https://localhost:8080/"
        },
        "id": "6bRa_dVhiBD7",
        "outputId": "c5098aad-f5e3-42c1-aaf8-1c8b4a525bd6"
      },
      "execution_count": null,
      "outputs": [
        {
          "output_type": "stream",
          "name": "stdout",
          "text": [
            "MAE: 98.73, R²: 0.7304\n",
            "✅ Model, scaler, encoders, and feature columns saved.\n"
          ]
        }
      ]
    }
  ]
}